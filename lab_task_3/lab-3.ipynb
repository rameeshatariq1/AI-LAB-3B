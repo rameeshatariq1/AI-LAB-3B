{
 "cells": [
  {
   "cell_type": "markdown",
   "id": "25d0b461",
   "metadata": {},
   "source": [
    "### _**Name: Rameesha Tariq**_\n",
    "### _**Roll no: SU92-BSAI-F24-118**_\n",
    "### _**Lab task - 03**_"
   ]
  },
  {
   "cell_type": "markdown",
   "id": "b8d7827c",
   "metadata": {},
   "source": [
    "#### **_Model-Based Reflex Agent_**"
   ]
  },
  {
   "cell_type": "code",
   "execution_count": 7,
   "id": "0a676a4d",
   "metadata": {},
   "outputs": [
    {
     "name": "stdout",
     "output_type": "stream",
     "text": [
      "Lounge :\t20°C  =>  Heater ON\n",
      "Guest Room :\t22°C  =>  Heater OFF\n",
      "Kitchen :\t25°C  =>  No Change (Keep same state)\n",
      "Bedroom :\t19°C  =>  Heater ON\n",
      "Bathroom :\t22°C  =>  Heater OFF\n"
     ]
    }
   ],
   "source": [
    "class SmartHeaterAgent:\n",
    "    def __init__(self, desired_temp):\n",
    "        self.target_temp = desired_temp\n",
    "        self.last_action = None           \n",
    "\n",
    "    def read_sensor(self, current_temp):\n",
    "        self.current_temp = current_temp         \n",
    "\n",
    "    def decide_action(self):\n",
    "        action = None\n",
    "        \n",
    "        if self.current_temp < self.target_temp:\n",
    "            action = \"Heater ON\"\n",
    "        else:\n",
    "            action = \"Heater OFF\"\n",
    "\n",
    "        if action == self.last_action:\n",
    "            action = \"No Change (Keep same state)\"\n",
    "        else:\n",
    "            self.last_action = action        \n",
    "\n",
    "        return action\n",
    "\n",
    "    def run_actuator(self):\n",
    "        decision = self.decide_action()\n",
    "        print(f\"{self.current_temp}°C  =>  {decision}\")\n",
    "\n",
    "home_rooms = {\n",
    "    \"Lounge\": 20,\n",
    "    \"Guest Room\": 22,\n",
    "    \"Kitchen\": 25,\n",
    "    \"Bedroom\": 19,\n",
    "    \"Bathroom\": 22,\n",
    "}\n",
    "\n",
    "controller = SmartHeaterAgent(22)\n",
    "for room, temp in home_rooms.items():\n",
    "    print(f\"{room} :\\t\", end=\"\")\n",
    "    controller.read_sensor(temp)\n",
    "    controller.run_actuator()"
   ]
  }
 ],
 "metadata": {
  "kernelspec": {
   "display_name": "base",
   "language": "python",
   "name": "python3"
  },
  "language_info": {
   "codemirror_mode": {
    "name": "ipython",
    "version": 3
   },
   "file_extension": ".py",
   "mimetype": "text/x-python",
   "name": "python",
   "nbconvert_exporter": "python",
   "pygments_lexer": "ipython3",
   "version": "3.12.4"
  }
 },
 "nbformat": 4,
 "nbformat_minor": 5
}
