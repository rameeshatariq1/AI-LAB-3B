{
 "cells": [
  {
   "cell_type": "markdown",
   "id": "de7f69db",
   "metadata": {},
   "source": [
    "### _**Name: Rameesha Tariq**_\n",
    "### _**Roll no: SU92-BSAI-F24-118**_\n",
    "### _**Lab task - 05**_"
   ]
  },
  {
   "cell_type": "markdown",
   "id": "7f1b51f7",
   "metadata": {},
   "source": [
    "### **_1. DFS with Stack_**"
   ]
  },
  {
   "cell_type": "code",
   "execution_count": 1,
   "id": "f4521bad",
   "metadata": {},
   "outputs": [
    {
     "name": "stdout",
     "output_type": "stream",
     "text": [
      "DFS Traversal :\n",
      "0\n",
      "1\n",
      "3\n",
      "4\n",
      "2\n"
     ]
    },
    {
     "data": {
      "text/plain": [
       "{'0', '1', '2', '3', '4'}"
      ]
     },
     "execution_count": 1,
     "metadata": {},
     "output_type": "execute_result"
    }
   ],
   "source": [
    "def dfs_stack(graph, start):\n",
    "    visited = set()           \n",
    "    stack = [start]           \n",
    "\n",
    "    while stack:              \n",
    "        node = stack.pop()    \n",
    "\n",
    "        if node not in visited:\n",
    "            print(node)       \n",
    "            visited.add(node)\n",
    "\n",
    "            \n",
    "            for neighbour in reversed(list(graph[node])):\n",
    "                if neighbour not in visited:\n",
    "                    stack.append(neighbour)\n",
    "\n",
    "    return visited\n",
    "\n",
    "\n",
    "\n",
    "graph = {\n",
    "    '0': ['1', '2'],\n",
    "    '1': ['0', '3', '4'],\n",
    "    '2': ['0'],\n",
    "    '3': ['1'],\n",
    "    '4': ['2', '3']\n",
    "}\n",
    "\n",
    "# Run DFS\n",
    "print(\"DFS Traversal :\")\n",
    "dfs_stack(graph, '0')\n",
    " \n",
    "     \n",
    "\n",
    "    "
   ]
  }
 ],
 "metadata": {
  "kernelspec": {
   "display_name": "base",
   "language": "python",
   "name": "python3"
  },
  "language_info": {
   "codemirror_mode": {
    "name": "ipython",
    "version": 3
   },
   "file_extension": ".py",
   "mimetype": "text/x-python",
   "name": "python",
   "nbconvert_exporter": "python",
   "pygments_lexer": "ipython3",
   "version": "3.12.4"
  }
 },
 "nbformat": 4,
 "nbformat_minor": 5
}
