{
 "cells": [
  {
   "cell_type": "markdown",
   "id": "4bcc3a30",
   "metadata": {},
   "source": [
    "### _**Name: Rameesha Tariq**_\n",
    "### _**Roll no: SU92-BSAI-F24-118**_\n",
    "### _**Lab task - 06**_"
   ]
  },
  {
   "cell_type": "markdown",
   "id": "05a6c7d5",
   "metadata": {},
   "source": [
    "### **_1. BFS without queue and without  node_**"
   ]
  },
  {
   "cell_type": "code",
   "execution_count": null,
   "id": "07f73d93",
   "metadata": {},
   "outputs": [
    {
     "name": "stdout",
     "output_type": "stream",
     "text": [
      "0 1 2 "
     ]
    }
   ],
   "source": [
    "\n",
    "graph = {\n",
    "    '0': ['1', '2'],\n",
    "    '1': ['0', '3', '4'],\n",
    "    '2': ['0'],\n",
    "    '3': ['1'],\n",
    "    '4': ['2', '3']\n",
    "}\n",
    "\n",
    "def bfs_without_queue(graph, start):\n",
    "    visited = set()\n",
    "    visited.add(start)\n",
    "\n",
    "    print(start, end=\" \")\n",
    "\n",
    " \n",
    "    for neighbour in graph[start]:\n",
    "        if neighbour not in visited:\n",
    "            print(neighbour, end=\" \")\n",
    "            visited.add(neighbour)\n",
    "\n",
    "bfs_without_queue(graph, '0')\n"
   ]
  },
  {
   "cell_type": "markdown",
   "id": "b0cbff48",
   "metadata": {},
   "source": [
    "### **_2. BFS with queue and node_**"
   ]
  },
  {
   "cell_type": "code",
   "execution_count": null,
   "id": "8aa178be",
   "metadata": {},
   "outputs": [
    {
     "name": "stdout",
     "output_type": "stream",
     "text": [
      "BFS Traversal (using Queue):\n",
      "0 1 2 3 4 "
     ]
    }
   ],
   "source": [
    "from collections import deque\n",
    "\n",
    "def bfs_with_queue(graph, start):\n",
    "    visited = set()               \n",
    "    queue = deque([start])        \n",
    "    while queue:\n",
    "        node = queue.popleft()    \n",
    "\n",
    "        if node not in visited:\n",
    "            print(node, end=\" \")  \n",
    "            visited.add(node)\n",
    "\n",
    "        \n",
    "            for neighbour in graph[node]:\n",
    "                if neighbour not in visited:\n",
    "                    queue.append(neighbour)\n",
    "\n",
    "\n",
    "\n",
    "graph = {\n",
    "    '0': ['1', '2'],\n",
    "    '1': ['0', '3', '4'],\n",
    "    '2': ['0'],\n",
    "    '3': ['1'],\n",
    "    '4': ['2', '3']\n",
    "}\n",
    "\n",
    "print(\"BFS Traversal (using Queue):\")\n",
    "bfs_with_queue(graph, '0')\n"
   ]
  }
 ],
 "metadata": {
  "kernelspec": {
   "display_name": "base",
   "language": "python",
   "name": "python3"
  },
  "language_info": {
   "codemirror_mode": {
    "name": "ipython",
    "version": 3
   },
   "file_extension": ".py",
   "mimetype": "text/x-python",
   "name": "python",
   "nbconvert_exporter": "python",
   "pygments_lexer": "ipython3",
   "version": "3.12.4"
  }
 },
 "nbformat": 4,
 "nbformat_minor": 5
}
